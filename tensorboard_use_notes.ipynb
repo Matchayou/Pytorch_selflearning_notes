{
 "cells": [
  {
   "cell_type": "markdown",
   "id": "001e4d90",
   "metadata": {},
   "source": [
    "# Tensorboard的使用"
   ]
  },
  {
   "cell_type": "code",
   "execution_count": 1,
   "id": "80b5a5ef",
   "metadata": {},
   "outputs": [],
   "source": [
    "from torch.utils.tensorboard import SummaryWriter\n",
    "from PIL import Image\n",
    "import numpy as np"
   ]
  },
  {
   "cell_type": "markdown",
   "id": "2faf88fe",
   "metadata": {},
   "source": [
    "SummaryWriter 是 torch.utils.tensorboard 模块中的一个类，它提供了一个简单的接口，允许你将训练过程中的各种数据（如损失、精度、图像等）记录下来，并保存到指定的日志文件中。你可以将这些日志文件加载到 TensorBoard 中，实时可视化训练过程。"
   ]
  },
  {
   "cell_type": "code",
   "execution_count": null,
   "id": "d6fdcb98",
   "metadata": {},
   "outputs": [],
   "source": [
    "writer = SummaryWriter(\"logs\")\n",
    "#\"logs\" 是存储日志文件的文件夹名。TensorBoard 会在这个目录下生成文件，并将训练过程中记录的所有数据保存到这里。\n",
    "#！！！重要注意！！logs文件夹会与代码文件所在文件夹保存在一起，不一定是你的工作目录下。"
   ]
  },
  {
   "cell_type": "markdown",
   "id": "2cffee22",
   "metadata": {},
   "source": [
    "#### `writer.add_scalar():`\n",
    "\n",
    "add_scalar() 方法用于记录标量数据（例如训练损失、准确率等），它有以下常用参数：<br>\n",
    "第一个参数是 tag，标签名，通常是你希望显示的变量名称（如 Loss/train 或 Accuracy）。<br>\n",
    "第二个参数是 scalar_value，即你想记录的标量值（如当前epoch的训练损失）。<br>\n",
    "第三个参数是 global_step，通常是当前的训练步数或 epoch 数。这将决定该标量值在 TensorBoard 中出现的位置。<br>\n",
    "目的：通过此方法，你可以将训练过程中逐步变化的标量数据（如损失、精度等）记录到日志中，以便在 TensorBoard 中观察其变化趋势"
   ]
  },
  {
   "cell_type": "markdown",
   "id": "7e3b99fc",
   "metadata": {},
   "source": [
    "### `终端输入——查看记录图片`\n",
    "\n",
    "tensorboard --logdir=logs（默认端口）<br>\n",
    "tensorboard --logdir=logs --port=6007(指定端口)"
   ]
  },
  {
   "cell_type": "code",
   "execution_count": 12,
   "id": "1d6a7bce",
   "metadata": {},
   "outputs": [],
   "source": [
    "for i in range(100):\n",
    "    writer.add_scalar(\"y=2x\", 2*i, i)#参数分别是：图的名称，图的函数，图的横坐标最大值\n",
    "\n",
    "writer.close()    "
   ]
  },
  {
   "cell_type": "markdown",
   "id": "e2cd2246",
   "metadata": {},
   "source": [
    "### `writer.add_image()`\n"
   ]
  },
  {
   "cell_type": "code",
   "execution_count": null,
   "id": "32a467bc",
   "metadata": {},
   "outputs": [],
   "source": [
    "writer.add_image()"
   ]
  },
  {
   "cell_type": "code",
   "execution_count": 42,
   "id": "2efeb8d7",
   "metadata": {},
   "outputs": [
    {
     "name": "stdout",
     "output_type": "stream",
     "text": [
      "<class 'PIL.JpegImagePlugin.JpegImageFile'>\n"
     ]
    }
   ],
   "source": [
    "image_path = r\"G:\\研一\\线性代数\\learn_torch\\data\\train\\ants_image\\0013035.jpg\"\n",
    "#在字符串前加 r，我们告诉 Python 不要处理其中的反斜杠作为转义字符，而是将它们按字面意义处理\n",
    "\n",
    "img = Image.open(image_path)\n",
    "print (type(img)) #输出图片的类型，不满足writer.add_image的要求"
   ]
  },
  {
   "cell_type": "code",
   "execution_count": null,
   "id": "6b5d73ab",
   "metadata": {},
   "outputs": [],
   "source": [
    "#import numpy as np\n",
    "img = np.array(img) #将PIL的图片转换为numpy数组\n",
    "print (type(img)) #输出图片的类型"
   ]
  },
  {
   "cell_type": "code",
   "execution_count": 17,
   "id": "cb91645f",
   "metadata": {},
   "outputs": [
    {
     "name": "stdout",
     "output_type": "stream",
     "text": [
      "(450, 500, 3)\n"
     ]
    }
   ],
   "source": [
    "image_path = r\"G:\\研一\\线性代数\\learn_torch\\data\\train\\bees_image\\16838648_415acd9e3f.jpg\"\n",
    "img_PIL = Image.open(image_path)\n",
    "#import numpy as np\n",
    "img_array = np.array(img_PIL) #将PIL的图片转换为numpy数组\n",
    "print (img_array.shape) #输出图片的格式，发现是（HW3，3通道在最后一位的格式）"
   ]
  },
  {
   "cell_type": "markdown",
   "id": "3539df3c",
   "metadata": {},
   "source": [
    "从PIL到numpy，需要在add_image()中指定shape中每一个数字/维表示的含义"
   ]
  },
  {
   "cell_type": "code",
   "execution_count": null,
   "id": "40af4826",
   "metadata": {},
   "outputs": [],
   "source": [
    "writer.add_image(\"test\", img_array, 1, dataformats='HWC') \n",
    "\n",
    "for i in range(100):\n",
    "    writer.add_scalar(\"y=3x\", 3*i, i)#参数分别是：图的名称，图的函数，图的横坐标最大值\n",
    "\n",
    "writer.close()    "
   ]
  },
  {
   "cell_type": "markdown",
   "id": "e164a133",
   "metadata": {},
   "source": [
    "step是步数，同一tag下，不同步数可以展示不一样的内容\n",
    "当 step 相同的时候，TensorBoard 会认为当前记录是 同一步骤的数据，通常不会覆盖新数据，而是保持在当前步骤的数据不变。\n",
    "每次 step 值发生变化时，TensorBoard 会记录新的事件数据，并将新的图像数据写入该步骤下。每个步骤都会生成一个事件文件，其中包含该步骤的图像数据。"
   ]
  },
  {
   "cell_type": "code",
   "execution_count": 20,
   "id": "3d9d521b",
   "metadata": {},
   "outputs": [],
   "source": [
    "writer.add_image(\"train\", img_array, 1, dataformats='HWC') \n",
    "\n",
    "for i in range(100):\n",
    "    writer.add_scalar(\"y=2x\", 2*i, i)#参数分别是：图的名称，图的函数，图的横坐标最大值\n",
    "\n",
    "writer.close()    "
   ]
  },
  {
   "cell_type": "markdown",
   "id": "b069bd1b",
   "metadata": {},
   "source": [
    "#### 通过tensorboard，可以直观的发现我们给model提供了哪些数据"
   ]
  }
 ],
 "metadata": {
  "kernelspec": {
   "display_name": "pytorch",
   "language": "python",
   "name": "python3"
  },
  "language_info": {
   "codemirror_mode": {
    "name": "ipython",
    "version": 3
   },
   "file_extension": ".py",
   "mimetype": "text/x-python",
   "name": "python",
   "nbconvert_exporter": "python",
   "pygments_lexer": "ipython3",
   "version": "3.9.23"
  }
 },
 "nbformat": 4,
 "nbformat_minor": 5
}
