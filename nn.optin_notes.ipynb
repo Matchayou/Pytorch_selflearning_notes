{
 "cells": [
  {
   "cell_type": "code",
   "execution_count": 1,
   "id": "6cdb680f",
   "metadata": {},
   "outputs": [],
   "source": [
    "import torch\n",
    "from torch import nn\n",
    "from torch.nn import Conv2d, MaxPool2d, Linear, Sequential,Flatten\n",
    "import torchvision\n",
    "from torch.utils.tensorboard import SummaryWriter\n",
    "from torch.utils.data import DataLoader\n"
   ]
  },
  {
   "cell_type": "code",
   "execution_count": 2,
   "id": "0a08a20a",
   "metadata": {},
   "outputs": [],
   "source": [
    "dataset = torchvision.datasets.CIFAR10(\"./dataset\",train=False,transform=torchvision.transforms.ToTensor(),\n",
    "                                       download= True)\n",
    "dataloader = DataLoader(dataset,batch_size=1)"
   ]
  },
  {
   "cell_type": "code",
   "execution_count": null,
   "id": "b5fd2875",
   "metadata": {},
   "outputs": [],
   "source": [
    "class Tudui(nn.Module):\n",
    "    def __init__(self):\n",
    "        super(Tudui, self).__init__()\n",
    "        self.model1 = Sequential(\n",
    "            Conv2d(3, 32, 5, padding=2),\n",
    "            MaxPool2d(2),\n",
    "            Conv2d(32, 32, 5, padding=2),\n",
    "            MaxPool2d(2),\n",
    "            Conv2d(32, 64, 5, padding=2),\n",
    "            MaxPool2d(2),\n",
    "            Flatten(),\n",
    "            Linear(64 * 4 * 4, 64),\n",
    "            Linear(64, 10)\n",
    "        )\n",
    "\n",
    "    def forward(self, x):\n",
    "        x = self.model1(x)\n",
    "        return x\n",
    "\n",
    "loss = nn.CrossEntropyLoss()\n",
    "tudui = Tudui()\n",
    "optim = torch.optim.SGD(tudui.parameters(), lr=0.01)\n",
    "for epoch in range(10):\n",
    "    runningloss = 0.0\n",
    "    for data in dataloader:\n",
    "        imgs,targets = data\n",
    "        outputs = tudui(imgs)\n",
    "        result_loss = loss(outputs,targets)\n",
    "        optim.zero_grad()\n",
    "        result_loss.backward()\n",
    "        optim.step()\n",
    "        runningloss += result_loss\n",
    "    print(runningloss)"
   ]
  },
  {
   "cell_type": "markdown",
   "id": "7a65fab1",
   "metadata": {},
   "source": [
    "初始状态：模型参数是随机初始化的，result_loss 较大。\n",
    "\n",
    "第一批次 data1：计算出损失，反向传播，优化器通过 optim.step() 更新参数。\n",
    "\n",
    "第二批次 data2：由于参数已经更新，模型的预测性能有所改善，result_loss 较第一次下降。\n",
    "\n",
    "持续训练：随着更多批次的训练，result_loss 会继续下降，模型逐步优化。 "
   ]
  }
 ],
 "metadata": {
  "kernelspec": {
   "display_name": "pytorch",
   "language": "python",
   "name": "python3"
  },
  "language_info": {
   "codemirror_mode": {
    "name": "ipython",
    "version": 3
   },
   "file_extension": ".py",
   "mimetype": "text/x-python",
   "name": "python",
   "nbconvert_exporter": "python",
   "pygments_lexer": "ipython3",
   "version": "3.9.23"
  }
 },
 "nbformat": 4,
 "nbformat_minor": 5
}
