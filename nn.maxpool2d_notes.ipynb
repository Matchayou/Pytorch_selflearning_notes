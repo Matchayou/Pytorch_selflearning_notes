{
 "cells": [
  {
   "cell_type": "code",
   "execution_count": 1,
   "id": "2dd54c8b",
   "metadata": {},
   "outputs": [
    {
     "name": "stdout",
     "output_type": "stream",
     "text": [
      "torch.Size([1, 1, 5, 5])\n"
     ]
    }
   ],
   "source": [
    "import torch\n",
    "from torch import nn\n",
    "import torchvision\n",
    "from torch.utils.data import DataLoader\n",
    "from torch.utils.tensorboard import SummaryWriter\n",
    "\n",
    "dataset = torchvision.datasets.CIFAR10(\n",
    "    root='./dataset',\n",
    "    train=False,\n",
    "    transform=torchvision.transforms.ToTensor(),\n",
    "    download=True\n",
    ")\n",
    "dataloader = DataLoader(dataset, batch_size=64, shuffle=True)\n",
    "\n",
    "\n",
    "input = torch.tensor([[1,2,0,3,1],\n",
    "                     [0,1,2,3,1],\n",
    "                     [1,2,1,0,0],\n",
    "                     [5,2,3,1,1],\n",
    "                     [2,1,0,1,1]])\n",
    "input = torch.reshape(input, (-1, 1, 5, 5))  # -1代表让程序自动计算出第一个维度的批次大小（样本数量），通道数，图像高度，图像宽度\n",
    "print(input.shape)\n"
   ]
  },
  {
   "cell_type": "code",
   "execution_count": 2,
   "id": "f4f3711c",
   "metadata": {},
   "outputs": [
    {
     "name": "stdout",
     "output_type": "stream",
     "text": [
      "tensor([[[[2, 3],\n",
      "          [5, 1]]]])\n"
     ]
    }
   ],
   "source": [
    "from torch import nn\n",
    "\n",
    "class Tudui (nn.Module):\n",
    "    def __init__(self):\n",
    "        super(Tudui, self).__init__()\n",
    "        self.maxpool = nn.MaxPool2d(kernel_size=3, ceil_mode= True)\n",
    "\n",
    "    def forward(self, input):\n",
    "       output = self.maxpool(input)\n",
    "       return output\n",
    "\n",
    "tudui = Tudui()\n",
    "output = tudui(input)\n",
    "print(output)"
   ]
  },
  {
   "cell_type": "code",
   "execution_count": 5,
   "id": "380cc540",
   "metadata": {},
   "outputs": [],
   "source": [
    "writer = SummaryWriter('logs_MaxPool')\n",
    "step = 0\n",
    "\n",
    "for data in dataloader:\n",
    "    imgs,targets = data\n",
    "    writer.add_images('input_pool', imgs, step)\n",
    "    output = tudui(imgs)\n",
    "    writer.add_images('output_pool', output, step)\n",
    "    step += 1\n",
    "    \n",
    "writer.close()\n"
   ]
  }
 ],
 "metadata": {
  "kernelspec": {
   "display_name": "pytorch",
   "language": "python",
   "name": "python3"
  },
  "language_info": {
   "codemirror_mode": {
    "name": "ipython",
    "version": 3
   },
   "file_extension": ".py",
   "mimetype": "text/x-python",
   "name": "python",
   "nbconvert_exporter": "python",
   "pygments_lexer": "ipython3",
   "version": "3.9.23"
  }
 },
 "nbformat": 4,
 "nbformat_minor": 5
}
