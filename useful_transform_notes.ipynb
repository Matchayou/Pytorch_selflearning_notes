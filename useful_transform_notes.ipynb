{
 "cells": [
  {
   "cell_type": "markdown",
   "id": "77cd065e",
   "metadata": {},
   "source": [
    "## 常见的Transformers"
   ]
  },
  {
   "cell_type": "markdown",
   "id": "2e929213",
   "metadata": {},
   "source": [
    "##### 输入：\n",
    "PIL → Image.open()<br>\n",
    "tensor → Totensor()<br>\n",
    "narrays→ cv.imread()"
   ]
  },
  {
   "cell_type": "code",
   "execution_count": 1,
   "id": "c8ddcd6f",
   "metadata": {},
   "outputs": [],
   "source": [
    "from PIL import Image\n",
    "from torchvision import transforms\n",
    "from torch.utils.tensorboard import SummaryWriter\n"
   ]
  },
  {
   "cell_type": "code",
   "execution_count": 4,
   "id": "806e9f13",
   "metadata": {},
   "outputs": [],
   "source": [
    "import os\n",
    "os.chdir(r\"G:\\AI learning\")"
   ]
  },
  {
   "cell_type": "code",
   "execution_count": 2,
   "id": "df51fdaa",
   "metadata": {},
   "outputs": [
    {
     "name": "stdout",
     "output_type": "stream",
     "text": [
      "<PIL.PngImagePlugin.PngImageFile image mode=RGBA size=1201x473 at 0x1D3E12940A0>\n"
     ]
    }
   ],
   "source": [
    "\n",
    "writer = SummaryWriter(\"logs\")\n",
    "img = Image.open(r\"G:\\AI learning\\learn_torch\\images\\20250721200401.png\")\n",
    "print(img)"
   ]
  },
  {
   "cell_type": "markdown",
   "id": "d826538d",
   "metadata": {},
   "source": [
    "### Totensor的使用"
   ]
  },
  {
   "cell_type": "code",
   "execution_count": null,
   "id": "7ea2ebfe",
   "metadata": {},
   "outputs": [],
   "source": [
    "trans_totensor = transforms.ToTensor()\n",
    "#这一步的目的：将Totensor步骤转换为一个函数。提高代码的可维护性：\n",
    "#如果以后需要修改转换操作（例如增加数据增强），只需要修改 trans_totensor 的定义，而不需要在每次调用时都手动修改。\n",
    "#如果以后需要添加多个转换操作（例如：先 resize，然后 ToTensor），可以将这些操作组合成一个 transforms.Compose。这样，你可以很容易地扩展你的数据处理管道。\n",
    "\n",
    "img_tensor = trans_totensor(img)\n",
    "writer.add_image(\"Totensor\", img_tensor)\n",
    "writer.close()\n"
   ]
  },
  {
   "cell_type": "markdown",
   "id": "04f10d53",
   "metadata": {},
   "source": [
    "### Normalize的使用"
   ]
  },
  {
   "cell_type": "code",
   "execution_count": 11,
   "id": "4701fbfc",
   "metadata": {},
   "outputs": [
    {
     "name": "stdout",
     "output_type": "stream",
     "text": [
      "tensor(0.1333)\n",
      "tensor(-0.7333)\n"
     ]
    }
   ],
   "source": [
    "# 将图片转换为RGB模式\n",
    "img_rgb = img.convert(\"RGB\")\n",
    "img_tensor_rgb = trans_totensor(img_rgb)\n",
    "\n",
    "print(img_tensor_rgb[0][0][0])  # 输出 Tensor 的形状\n",
    "trans_norm = transforms.Normalize(mean=[ 0.5, 0.5, 0.5],std=[0.5, 0.5, 0.5])\n",
    "img_norm = trans_norm(img_tensor_rgb)\n",
    "print(img_norm[0][0][0])  # 输出归一化后的 Tensor 的形状\n",
    "writer.add_image(\"Normalize\", img_norm)\n",
    "\n",
    "writer.close()"
   ]
  },
  {
   "cell_type": "markdown",
   "id": "683e4137",
   "metadata": {},
   "source": [
    "##### 补充知识"
   ]
  },
  {
   "cell_type": "markdown",
   "id": "01f8d863",
   "metadata": {},
   "source": [
    "1.为什么图像需要转化为RGB模式？<br>\n",
    "图像格式通常有很多种，比如 灰度图像、RGB图像、RGBA图像（带透明通道）等。在机器学习和深度学习中，模型一般期待输入是标准化的 RGB图像。确保图像数据有一致的颜色通道（即红、绿、蓝），这符合大多数神经网络的输入要求，并确保模型可以有效地处理颜色信息。<br>\n",
    "2.为什么图像需要进行标准化？<br>\n",
    "图像标准化（或归一化）是深度学习中的常见预处理步骤。标准化是指将图像的像素值转化为一个特定的范围，通常是 零均值和单位方差（例如，将像素值标准化到 [-1, 1] 范围内）。<br>\n",
    "提升模型的训练稳定性和收敛速度，避免因输入数据尺度差异引起的问题，确保模型能够有效地学习到图像的特征。特别是在使用预训练模型时，标准化是必不可少的步骤。<br>\n",
    "3.每个通道的均值和标准差是根据什么计算出来的？<br>\n",
    "通常，这些值是通过对整个数据集的所有图像的每个通道（红色、绿色、蓝色）进行逐像素统计计算得出的。将每个通道的均值和标准差分别应用到该通道的像素值上，对图像进行标准化处理"
   ]
  },
  {
   "cell_type": "markdown",
   "id": "b5d8eef3",
   "metadata": {},
   "source": [
    "### Resize的用法"
   ]
  },
  {
   "cell_type": "code",
   "execution_count": 13,
   "id": "16d09fd2",
   "metadata": {},
   "outputs": [
    {
     "name": "stdout",
     "output_type": "stream",
     "text": [
      "(1201, 473)\n",
      "tensor([[[0.1333, 0.1333, 0.1333,  ..., 0.1333, 0.1333, 0.1333],\n",
      "         [0.1333, 0.1333, 0.1333,  ..., 0.1333, 0.1333, 0.1333],\n",
      "         [0.1333, 0.1333, 0.1333,  ..., 0.1333, 0.1333, 0.1333],\n",
      "         ...,\n",
      "         [0.2667, 0.2667, 0.2667,  ..., 0.3412, 0.3412, 0.3412],\n",
      "         [0.2667, 0.2667, 0.2667,  ..., 0.3412, 0.3412, 0.3412],\n",
      "         [0.2706, 0.2706, 0.2706,  ..., 0.3412, 0.3412, 0.3412]],\n",
      "\n",
      "        [[0.1333, 0.1333, 0.1333,  ..., 0.1333, 0.1333, 0.1333],\n",
      "         [0.1333, 0.1333, 0.1333,  ..., 0.1333, 0.1333, 0.1333],\n",
      "         [0.1333, 0.1333, 0.1333,  ..., 0.1333, 0.1333, 0.1333],\n",
      "         ...,\n",
      "         [0.1569, 0.1569, 0.1569,  ..., 0.2980, 0.2980, 0.2980],\n",
      "         [0.1569, 0.1569, 0.1569,  ..., 0.2980, 0.2980, 0.2980],\n",
      "         [0.1529, 0.1529, 0.1529,  ..., 0.2980, 0.2980, 0.2980]],\n",
      "\n",
      "        [[0.1333, 0.1333, 0.1333,  ..., 0.1333, 0.1333, 0.1333],\n",
      "         [0.1333, 0.1333, 0.1333,  ..., 0.1333, 0.1333, 0.1333],\n",
      "         [0.1333, 0.1333, 0.1333,  ..., 0.1333, 0.1333, 0.1333],\n",
      "         ...,\n",
      "         [0.3412, 0.3412, 0.3412,  ..., 0.4000, 0.4000, 0.4000],\n",
      "         [0.3412, 0.3412, 0.3412,  ..., 0.4000, 0.4000, 0.4000],\n",
      "         [0.3451, 0.3451, 0.3451,  ..., 0.4000, 0.4000, 0.4000]],\n",
      "\n",
      "        [[1.0000, 1.0000, 1.0000,  ..., 1.0000, 1.0000, 1.0000],\n",
      "         [1.0000, 1.0000, 1.0000,  ..., 1.0000, 1.0000, 1.0000],\n",
      "         [1.0000, 1.0000, 1.0000,  ..., 1.0000, 1.0000, 1.0000],\n",
      "         ...,\n",
      "         [1.0000, 1.0000, 1.0000,  ..., 1.0000, 1.0000, 1.0000],\n",
      "         [1.0000, 1.0000, 1.0000,  ..., 1.0000, 1.0000, 1.0000],\n",
      "         [1.0000, 1.0000, 1.0000,  ..., 1.0000, 1.0000, 1.0000]]])\n"
     ]
    }
   ],
   "source": [
    "#输入必须是PIL图像\n",
    "print(img.size)  # 输出图像的尺寸\n",
    "trans_resize = transforms.Resize((512, 512))\n",
    "#img PIL -> resize ->img_resize PIL \n",
    "img_resize = trans_resize(img)\n",
    "#img_resize PIL -> totensor -> img_resize Tensor\n",
    "img_resize = trans_totensor(img_resize)\n",
    "writer.add_image(\"Resize\", img_resize,0)\n",
    "print(img_resize)  # 输出调整大小后的图像尺寸\n",
    "writer.close()\n"
   ]
  },
  {
   "cell_type": "markdown",
   "id": "8a01bd58",
   "metadata": {},
   "source": [
    "### compose -resize"
   ]
  },
  {
   "cell_type": "code",
   "execution_count": null,
   "id": "c117555a",
   "metadata": {},
   "outputs": [],
   "source": [
    "#函数级联\n",
    "trans_resize_2 = transforms.Resize(512)\n",
    "trans_compose = transforms.Compose([trans_resize_2, trans_totensor])#将多个转换操作组合成一个 transforms.Compose\n",
    "img_resize_2 = trans_compose(img)\n",
    "writer.add_image(\"Resize\", img_resize_2, 1)\n",
    "print(img_resize_2)  # 输出调整大小后的图像尺寸\n",
    "writer.close()\n"
   ]
  },
  {
   "cell_type": "code",
   "execution_count": null,
   "id": "c484bf64",
   "metadata": {},
   "outputs": [],
   "source": [
    "#RandomCrop\n",
    "trans_random = transforms.RandomCrop(128)#随机裁剪\n",
    "trans_compose_2 = transforms.Compose([trans_random, trans_totensor])#将多个转换操作组合成一个 transforms.Compose\n",
    "for i in range(10):\n",
    "    img_crop = trans_compose_2(img)\n",
    "    writer.add_image(\"RandomCrop_1\", img_crop, i)\n",
    "\n",
    "writer.close()"
   ]
  }
 ],
 "metadata": {
  "kernelspec": {
   "display_name": "pytorch",
   "language": "python",
   "name": "python3"
  },
  "language_info": {
   "codemirror_mode": {
    "name": "ipython",
    "version": 3
   },
   "file_extension": ".py",
   "mimetype": "text/x-python",
   "name": "python",
   "nbconvert_exporter": "python",
   "pygments_lexer": "ipython3",
   "version": "3.9.23"
  }
 },
 "nbformat": 4,
 "nbformat_minor": 5
}
