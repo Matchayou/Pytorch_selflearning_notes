{
 "cells": [
  {
   "cell_type": "code",
   "execution_count": null,
   "id": "41031b6d",
   "metadata": {},
   "outputs": [],
   "source": [
    "from torch.utils.data import Dataset, DataLoader\n",
    "#从torch的utils模块的data工具导入\n",
    "import numpy as np\n",
    "from PIL import Image\n",
    "# PIL是Python Imaging Library的缩写，是一个用于图像处理的库。\n",
    "# 这里的Image是PIL库中的一个类，用于处理图像数据。\n",
    "import os #关于系统的库，此处用来获取图片的地址\n",
    "from torchvision import transforms\n",
    "from torch.utils.tensorboard import SummaryWriter\n",
    "from torchvision.utils import make_grid"
   ]
  },
  {
   "cell_type": "code",
   "execution_count": null,
   "id": "3407b311",
   "metadata": {},
   "outputs": [],
   "source": [
    "img_path = r\"G:\\研一\\线性代数\\数据集\\hymenoptera_data\\hymenoptera_data\\train\\ants\\0013035.jpg\"\n",
    "img = Image.open(img_path)\n",
    "\n",
    "# Image.open()方法用于打开指定路径的图像文件，并返回一个Image对象。\n",
    "# 这个Image对象可以进行各种图像处理操作，比如转换为numpy数组、调整大小、旋转等。\n",
    "# 这里的img_path是一个字符串，表示图像文件的路径。"
   ]
  },
  {
   "cell_type": "code",
   "execution_count": null,
   "id": "475e67d1",
   "metadata": {},
   "outputs": [],
   "source": [
    "img.show"
   ]
  },
  {
   "cell_type": "code",
   "execution_count": 2,
   "id": "cef5388a",
   "metadata": {},
   "outputs": [],
   "source": [
    "root_dir = \"G:\\研一\\线性代数\\数据集\\hymenoptera_data\\hymenoptera_data\\train\"\n",
    "label_dir = \"ants\"\n",
    "path = os.path.join(root_dir, label_dir)\n",
    "# os.path.join()函数用于将多个路径组合成一个完整的路径。\n",
    "# 这里的root_dir和label_dir是两个字符串，表示文件夹的路径和名称。\n",
    "# os.path.join()函数会根据操作系统的路径分隔符（如Windows下的\\或Linux下的/）来正确地组合路径。"
   ]
  },
  {
   "cell_type": "code",
   "execution_count": null,
   "id": "8bdd985a",
   "metadata": {},
   "outputs": [],
   "source": [
    "\n",
    "class MyData(Dataset):\n",
    "\n",
    "    def __init__(self, root_dir, label_dir):#__init__：初始化数据集，加载图像路径\n",
    "        # self可以把此处的变量传递给下一个函数使用！！\n",
    "        # 这里的self是指类MyData的实例对象本身。在类的方法中，self用于访问实例的属性和方法。\n",
    "        # 在__getitem__方法中，self.image_list表示该实例的image_list属性。\n",
    "        # 这样可以通过self来获取和操作该对象的数据，实现数据的封装和复用。\n",
    "        self.root_dir = root_dir #使得一开始创建的变量root_dir，变成了全局变量\n",
    "        self.label_dir = label_dir\n",
    "        self.path = os.path.join(self.root_dir, self.label_dir)\n",
    "        #os.path.join会对后面的两个路径进行拼接\n",
    "        self.img_path = os.listdir(self.path)\n",
    "        # 获取指定目录下的所有文件和目录名\n",
    "        # os.listdir()函数返回指定路径下的所有文件和目录的列表。\n",
    "        # 这里的self.image_list是一个包含所有图像文件名的列表。        \n",
    "\n",
    "    # __getitem__方法是Dataset类的一个特殊方法，用于获取数据集中的一个样本。\n",
    "    # 该方法接受一个索引idx作为参数，返回对应索引的样本数据。\n",
    "    # 在这个方法中，我们根据索引idx获取图像和标签的文件名，然后读取图像和标签数据，并进行必要的转换。\n",
    "    # 最后，将图像和标签封装成一个字典sample并返回。\n",
    "    def __getitem__(self, idx):\n",
    "        img_name = self.img_path[idx]#获取图像文件名\n",
    "        # self.image_list是一个包含所有图像文件名的列表。\n",
    "        # idx是索引，用于获取特定的图像文件名。\n",
    "        # 这里的img_name是一个字符串，表示图像文件的名称。\n",
    "        img_item_path = os.path.join(self.root_dir, self.label_dir, img_name)\n",
    "        #每一个文件的位置都是通过root_dir，image_dir和img_name拼接而成的,此处是具体文件位置\n",
    "        img = Image.open(img_item_path)# 打开图像文件\n",
    "        label = self.label_dir\n",
    "        return img, label\n",
    "\n",
    "    def __len__(self):\n",
    "        # 返回数据集的长度，即图像文件的数量\n",
    "        # self.image_list是一个包含所有图像文件名的列表。\n",
    "        return len(self.img_path)"
   ]
  },
  {
   "cell_type": "code",
   "execution_count": 10,
   "id": "aa57d705",
   "metadata": {},
   "outputs": [],
   "source": [
    "root_dir = r\"G:\\研一\\线性代数\\数据集\\hymenoptera_data\\hymenoptera_data\\train\" # 使用绝对路径，确保路径存在\n",
    "ants_label_dir = \"ants\" # 定义了蚂蚁图像数据的标签文件夹。\n",
    "bees_label_dir = \"bees\" # 定义了蜜蜂图像数据的标签文件夹。\n",
    "ants_dataset = MyData(root_dir, ants_label_dir)\n",
    "bees_dataset = MyData(root_dir, bees_label_dir)\n",
    "# ants_dataset 和 bees_dataset 分别是蚂蚁和蜜蜂图像数据集的实例。\n",
    "# 创建了一个 MyData 类的实例，ants_dataset 用于加载 root_dir 中 ants 目录下的蚂蚁图像数据。\n",
    "train_dataset = ants_dataset + bees_dataset #数据集拼接\n"
   ]
  },
  {
   "cell_type": "markdown",
   "id": "8925205e",
   "metadata": {},
   "source": [
    "这段代码通过 MyData 类分别加载了存储在指定目录下的蚂蚁和蜜蜂的图像数据，并将它们分别存储在 ants_dataset 和 bees_dataset 中。这通常用于图像分类任务，其中 ants 和 bees 可能是两种不同的类别。"
   ]
  },
  {
   "cell_type": "code",
   "execution_count": 11,
   "id": "dbe13c52",
   "metadata": {},
   "outputs": [
    {
     "data": {
      "text/plain": [
       "124"
      ]
     },
     "execution_count": 11,
     "metadata": {},
     "output_type": "execute_result"
    }
   ],
   "source": [
    "ants_dataset[0]\n",
    "img, label = train_dataset[124]\n",
    "img.show()  # 显示图像\n",
    "len(ants_dataset)"
   ]
  },
  {
   "cell_type": "code",
   "execution_count": null,
   "id": "3073143b",
   "metadata": {},
   "outputs": [],
   "source": [
    "if __name__ == '__main__':\n",
    "    transform = transforms.Compose([transforms.Resize((256, 256)), transforms.ToTensor()])\n",
    "    root_dir = \"dataset/train\"\n",
    "    image_ants = \"ants_image\"\n",
    "    label_ants = \"ants_label\"\n",
    "    ants_dataset = MyData(root_dir, image_ants, label_ants, transform)\n",
    "    image_bees = \"bees_image\"\n",
    "    label_bees = \"bees_label\"\n",
    "    bees_dataset = MyData(root_dir, image_bees, label_bees, transform)\n",
    "    train_dataset = ants_dataset + bees_dataset\n",
    "\n",
    "    # transforms = transforms.Compose([transforms.Resize(256, 256)])\n",
    "    dataloader = DataLoader(train_dataset, batch_size=1, num_workers=2)\n",
    "\n",
    "    writer.add_image('error', train_dataset[119]['img'])\n",
    "    writer.close()\n",
    "    # for i, j in enumerate(dataloader):\n",
    "    #     # imgs, labels = j\n",
    "    #     print(type(j))\n",
    "    #     print(i, j['img'].shape)\n",
    "    #     # writer.add_image(\"train_data_b2\", make_grid(j['img']), i)\n",
    "    #\n",
    "    # writer.close()"
   ]
  }
 ],
 "metadata": {
  "kernelspec": {
   "display_name": "pytorch",
   "language": "python",
   "name": "python3"
  },
  "language_info": {
   "codemirror_mode": {
    "name": "ipython",
    "version": 3
   },
   "file_extension": ".py",
   "mimetype": "text/x-python",
   "name": "python",
   "nbconvert_exporter": "python",
   "pygments_lexer": "ipython3",
   "version": "3.9.23"
  }
 },
 "nbformat": 4,
 "nbformat_minor": 5
}
