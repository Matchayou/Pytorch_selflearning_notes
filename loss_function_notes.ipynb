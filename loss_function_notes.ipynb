{
 "cells": [
  {
   "cell_type": "code",
   "execution_count": 1,
   "id": "96c5d618",
   "metadata": {},
   "outputs": [],
   "source": [
    "import torch\n",
    "from torch.nn import L1Loss\n",
    "from torch import nn    \n"
   ]
  },
  {
   "cell_type": "code",
   "execution_count": 6,
   "id": "40bfec89",
   "metadata": {},
   "outputs": [
    {
     "name": "stdout",
     "output_type": "stream",
     "text": [
      "tensor(2.)\n"
     ]
    }
   ],
   "source": [
    "input = torch.tensor([1,2,3],dtype=torch.float32)\n",
    "targets = torch.tensor([1,2,5],dtype=torch.float32)\n",
    "\n",
    "loss =L1Loss(reduction=\"sum\")\n",
    "result = loss(input, targets)\n",
    "\n",
    "print(result)\n"
   ]
  },
  {
   "cell_type": "code",
   "execution_count": 12,
   "id": "995e4212",
   "metadata": {},
   "outputs": [
    {
     "name": "stdout",
     "output_type": "stream",
     "text": [
      "tensor(1.3333)\n"
     ]
    }
   ],
   "source": [
    "loss_mse = nn.MSELoss()\n",
    "result  = loss_mse(input,targets)\n",
    "\n",
    "print(result)\n"
   ]
  },
  {
   "cell_type": "code",
   "execution_count": 12,
   "id": "12b88b01",
   "metadata": {},
   "outputs": [
    {
     "name": "stdout",
     "output_type": "stream",
     "text": [
      "tensor([2.0000, 1.0000, 0.1000])\n",
      "tensor([[2.0000, 1.0000, 0.1000]])\n",
      "tensor(0.4170)\n"
     ]
    }
   ],
   "source": [
    "x = torch.tensor([2.0,1.0,0.1])\n",
    "print(x)\n",
    "y = torch.tensor([0])\n",
    "x = torch.reshape(x,(1,3))\n",
    "print (x)\n",
    "loss_cross = nn.CrossEntropyLoss()\n",
    "result_cross = loss_cross(x,y)\n",
    "print(result_cross)"
   ]
  }
 ],
 "metadata": {
  "kernelspec": {
   "display_name": "pytorch",
   "language": "python",
   "name": "python3"
  },
  "language_info": {
   "codemirror_mode": {
    "name": "ipython",
    "version": 3
   },
   "file_extension": ".py",
   "mimetype": "text/x-python",
   "name": "python",
   "nbconvert_exporter": "python",
   "pygments_lexer": "ipython3",
   "version": "3.9.23"
  }
 },
 "nbformat": 4,
 "nbformat_minor": 5
}
