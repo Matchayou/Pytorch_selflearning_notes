{
 "cells": [
  {
   "cell_type": "markdown",
   "id": "0ac7852b",
   "metadata": {},
   "source": [
    "\n",
    "torchvison数据集的使用\n",
    "如何把数据集和transform组合在一起"
   ]
  },
  {
   "cell_type": "code",
   "execution_count": null,
   "id": "82a1f26f",
   "metadata": {},
   "outputs": [],
   "source": [
    "import torchvision\n",
    "\n",
    "#train_set = torchvision.datasets.CIFAR10(root=\"./dataset\",train=True,download=True)\n",
    "#test_set = torchvision.datasets.CIFAR10(root=\"./dataset\",train=False,download=True)"
   ]
  },
  {
   "cell_type": "code",
   "execution_count": null,
   "id": "7040b888",
   "metadata": {},
   "outputs": [],
   "source": [
    "print(test_set[0])"
   ]
  },
  {
   "cell_type": "code",
   "execution_count": null,
   "id": "84242bbd",
   "metadata": {},
   "outputs": [],
   "source": [
    "print(test_set.classes)"
   ]
  },
  {
   "cell_type": "code",
   "execution_count": null,
   "id": "0e4ade0f",
   "metadata": {},
   "outputs": [],
   "source": [
    "img, target = test_set[0]\n",
    "print(img)\n",
    "print (target)\n",
    "print(test_set.classes[target])\n",
    "img.show()"
   ]
  },
  {
   "cell_type": "code",
   "execution_count": 1,
   "id": "319da1ea",
   "metadata": {},
   "outputs": [],
   "source": [
    "import torchvision\n",
    "dataset_transform = torchvision.transforms.Compose([\n",
    "    torchvision.transforms.ToTensor()\n",
    "])\n",
    "\n",
    "train_set = torchvision.datasets.CIFAR10(root=\"./dataset\",train=True,transform=dataset_transform,download=True)\n",
    "test_set = torchvision.datasets.CIFAR10(root=\"./dataset\",train=False,transform=dataset_transform,download=True)\n",
    "\n",
    "#train_set = torchvision.datasets.CIFAR10(root=\"./dataset\",train=True,download=True)\n",
    "#test_set = torchvision.datasets.CIFAR10(root=\"./dataset\",train=False,download=True)"
   ]
  },
  {
   "cell_type": "code",
   "execution_count": 2,
   "id": "f6610a0f",
   "metadata": {},
   "outputs": [
    {
     "name": "stdout",
     "output_type": "stream",
     "text": [
      "(tensor([[[0.6196, 0.6235, 0.6471,  ..., 0.5373, 0.4941, 0.4549],\n",
      "         [0.5961, 0.5922, 0.6235,  ..., 0.5333, 0.4902, 0.4667],\n",
      "         [0.5922, 0.5922, 0.6196,  ..., 0.5451, 0.5098, 0.4706],\n",
      "         ...,\n",
      "         [0.2667, 0.1647, 0.1216,  ..., 0.1490, 0.0510, 0.1569],\n",
      "         [0.2392, 0.1922, 0.1373,  ..., 0.1020, 0.1137, 0.0784],\n",
      "         [0.2118, 0.2196, 0.1765,  ..., 0.0941, 0.1333, 0.0824]],\n",
      "\n",
      "        [[0.4392, 0.4353, 0.4549,  ..., 0.3725, 0.3569, 0.3333],\n",
      "         [0.4392, 0.4314, 0.4471,  ..., 0.3725, 0.3569, 0.3451],\n",
      "         [0.4314, 0.4275, 0.4353,  ..., 0.3843, 0.3725, 0.3490],\n",
      "         ...,\n",
      "         [0.4863, 0.3922, 0.3451,  ..., 0.3804, 0.2510, 0.3333],\n",
      "         [0.4549, 0.4000, 0.3333,  ..., 0.3216, 0.3216, 0.2510],\n",
      "         [0.4196, 0.4118, 0.3490,  ..., 0.3020, 0.3294, 0.2627]],\n",
      "\n",
      "        [[0.1922, 0.1843, 0.2000,  ..., 0.1412, 0.1412, 0.1294],\n",
      "         [0.2000, 0.1569, 0.1765,  ..., 0.1216, 0.1255, 0.1333],\n",
      "         [0.1843, 0.1294, 0.1412,  ..., 0.1333, 0.1333, 0.1294],\n",
      "         ...,\n",
      "         [0.6941, 0.5804, 0.5373,  ..., 0.5725, 0.4235, 0.4980],\n",
      "         [0.6588, 0.5804, 0.5176,  ..., 0.5098, 0.4941, 0.4196],\n",
      "         [0.6275, 0.5843, 0.5176,  ..., 0.4863, 0.5059, 0.4314]]]), 3)\n"
     ]
    }
   ],
   "source": [
    "print(test_set[0])"
   ]
  },
  {
   "cell_type": "code",
   "execution_count": 3,
   "id": "d7969935",
   "metadata": {},
   "outputs": [],
   "source": [
    "from torch.utils.tensorboard import SummaryWriter\n",
    "\n",
    "writer = SummaryWriter(\"p10\")"
   ]
  },
  {
   "cell_type": "code",
   "execution_count": 4,
   "id": "0603c2c3",
   "metadata": {},
   "outputs": [],
   "source": [
    "for i in range(10):\n",
    "    img, target = test_set[i]\n",
    "    writer.add_image(\"test_set\", img, i)\n",
    "writer.close()\n"
   ]
  }
 ],
 "metadata": {
  "kernelspec": {
   "display_name": "pytorch",
   "language": "python",
   "name": "python3"
  },
  "language_info": {
   "codemirror_mode": {
    "name": "ipython",
    "version": 3
   },
   "file_extension": ".py",
   "mimetype": "text/x-python",
   "name": "python",
   "nbconvert_exporter": "python",
   "pygments_lexer": "ipython3",
   "version": "3.9.23"
  }
 },
 "nbformat": 4,
 "nbformat_minor": 5
}
