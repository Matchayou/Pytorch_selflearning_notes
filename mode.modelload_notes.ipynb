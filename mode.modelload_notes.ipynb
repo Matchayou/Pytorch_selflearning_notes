{
 "cells": [
  {
   "cell_type": "code",
   "execution_count": 11,
   "id": "636bee5a",
   "metadata": {},
   "outputs": [],
   "source": [
    "import torchvision.models\n",
    "import torch\n",
    "import torch.nn as nn"
   ]
  },
  {
   "cell_type": "code",
   "execution_count": null,
   "id": "2efc9dd0",
   "metadata": {},
   "outputs": [],
   "source": [
    "vgg16 = torchvision.models.vgg16(weights= None)\n",
    "#保存方式1，模型结构+参数\n",
    "torch.save(vgg16,\"vgg16_method1.pth\")\n",
    "\n",
    "#方式1==保存方式1加载法\n",
    "model = torch.load(\"vgg16_method1.pth\",weights_only=False)\n",
    "print(model)\n",
    "\n"
   ]
  },
  {
   "cell_type": "code",
   "execution_count": null,
   "id": "b05bab4b",
   "metadata": {},
   "outputs": [],
   "source": [
    "#保存方式2，模型参数（官方推荐，小）\n",
    "torch.save(vgg16.state_dict(),\"vgg16_method2.pth\")\n",
    "#把vgg16的参数保存为字典形式，不保存结构，而是保存参数\n",
    "\n",
    "#方式2==保存方式2加载法\n",
    "#model = torch.load(\"vgg16_method2.pth\",weights_only=None)\n",
    "#print(model)\n",
    "\n",
    "vgg16 = torchvision.models.vgg16(weights= None)\n",
    "vgg16.load_state_dict(torch.load(\"vgg16_method2.pth\"))\n",
    "print(vgg16)\n"
   ]
  },
  {
   "cell_type": "code",
   "execution_count": 12,
   "id": "9492cdcb",
   "metadata": {},
   "outputs": [],
   "source": [
    "# 陷阱1\n",
    "class Tudui(nn.Module):\n",
    "    def __init__(self):\n",
    "        super(Tudui, self).__init__()\n",
    "        self.conv1 = nn.Conv2d(3, 64, kernel_size=3)\n",
    "\n",
    "    def forward(self, x):\n",
    "        x = self.conv1(x)\n",
    "        return x\n",
    "    \n",
    "tudui = Tudui()\n",
    "torch.save(tudui, \"tudui_method1.pth\")"
   ]
  },
  {
   "cell_type": "code",
   "execution_count": 13,
   "id": "a0f55f88",
   "metadata": {},
   "outputs": [
    {
     "name": "stdout",
     "output_type": "stream",
     "text": [
      "Tudui(\n",
      "  (conv1): Conv2d(3, 64, kernel_size=(3, 3), stride=(1, 1))\n",
      ")\n"
     ]
    }
   ],
   "source": [
    "model = torch.load(\"tudui_method1.pth\", weights_only=False)\n",
    "print(model)"
   ]
  }
 ],
 "metadata": {
  "kernelspec": {
   "display_name": "pytorch",
   "language": "python",
   "name": "python3"
  },
  "language_info": {
   "codemirror_mode": {
    "name": "ipython",
    "version": 3
   },
   "file_extension": ".py",
   "mimetype": "text/x-python",
   "name": "python",
   "nbconvert_exporter": "python",
   "pygments_lexer": "ipython3",
   "version": "3.9.23"
  }
 },
 "nbformat": 4,
 "nbformat_minor": 5
}
