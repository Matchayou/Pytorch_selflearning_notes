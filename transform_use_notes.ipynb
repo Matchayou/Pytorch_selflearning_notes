{
 "cells": [
  {
   "cell_type": "code",
   "execution_count": 1,
   "id": "fcd8ed00",
   "metadata": {},
   "outputs": [],
   "source": [
    "from torchvision import transforms\n",
    "from PIL import Image"
   ]
  },
  {
   "cell_type": "markdown",
   "id": "77287551",
   "metadata": {},
   "source": [
    "python的用法→tensor数据类型\n",
    "通过transforms.ToTensor()去看\n",
    "1. transform被如何使用？\n",
    "2. 为什么我们需要tensor这个数据类型给？"
   ]
  },
  {
   "cell_type": "code",
   "execution_count": 2,
   "id": "6253aa0c",
   "metadata": {},
   "outputs": [],
   "source": [
    "#绝对路径G:\\AI learning\\learn_torch\\data\\train\\ants_image\\0013035.jpg\n",
    "#相对路径learn_torch\\data\\train\\ants_image\\0013035.jpg\n",
    "img_path = r\"G:\\AI learning\\learn_torch\\data\\train\\ants_image\\0013035.jpg\"\n",
    "img = Image.open(img_path)\n",
    "\n"
   ]
  },
  {
   "cell_type": "markdown",
   "id": "8cdbcfc8",
   "metadata": {},
   "source": [
    "### 1. transform被如何使用？"
   ]
  },
  {
   "cell_type": "code",
   "execution_count": 3,
   "id": "453d25da",
   "metadata": {},
   "outputs": [],
   "source": [
    "tensor_transform = transforms.ToTensor()\n",
    "tensor_img = tensor_transform(pic=img) #将img图片转化成了tensor数据类型的图片"
   ]
  },
  {
   "cell_type": "markdown",
   "id": "654accb7",
   "metadata": {},
   "source": [
    "### 2. 为什么我们需要tensor这个数据类型给？"
   ]
  },
  {
   "cell_type": "markdown",
   "id": "cd96d203",
   "metadata": {},
   "source": [
    "tensor数据类型包装了神经网络需要用到的各种参数"
   ]
  },
  {
   "cell_type": "code",
   "execution_count": null,
   "id": "c7c32cf8",
   "metadata": {},
   "outputs": [],
   "source": [
    "#%pip install opencv-python\n",
    "#使用opencv读取numpy格式的图片\n",
    "import cv2\n",
    "#使用cv2注意！路径中不能有中文\n",
    "import numpy as np\n",
    "\n",
    "cv_img = cv2.imread(img_path)  # 读取图片 "
   ]
  },
  {
   "cell_type": "markdown",
   "id": "7bc412cb",
   "metadata": {},
   "source": [
    "#### 总结代码"
   ]
  },
  {
   "cell_type": "code",
   "execution_count": 7,
   "id": "756d3d19",
   "metadata": {},
   "outputs": [],
   "source": [
    "import os\n",
    "os.chdir(r\"G:\\AI learning\")\n",
    "\n",
    "from torchvision import transforms\n",
    "from PIL import Image\n",
    "from torch.utils.tensorboard import SummaryWriter\n",
    "\n",
    "img_path = r\"G:\\AI learning\\learn_torch\\data\\train\\ants_image\\0013035.jpg\"\n",
    "img = Image.open(img_path)\n",
    "\n",
    "writer = SummaryWriter(\"logs\")\n",
    "\n",
    "tensor_transform = transforms.ToTensor()\n",
    "tensor_img = tensor_transform(pic=img) #将img图片转化成了tensor数据类型的图片\n",
    "\n",
    "writer.add_image(\"Tensor_image\", tensor_img)  # 添加tensor图片到TensorBoard\n",
    "\n",
    "writer.close()\n"
   ]
  },
  {
   "cell_type": "markdown",
   "id": "9172ea5c",
   "metadata": {},
   "source": [
    "上一章节使用 NumPy 数组，虽然 TensorBoard 可以接受，但 PyTorch 模型训练中更常用的是 Tensor 类型。\n",
    "本次学习的代码，更加符合 PyTorch 的输入标准，自动处理了图像数据的归一化，转换为标准的 Tensor 类型，并且可以直接用于深度学习训练。\n",
    "\n",
    "\n"
   ]
  }
 ],
 "metadata": {
  "kernelspec": {
   "display_name": "pytorch",
   "language": "python",
   "name": "python3"
  },
  "language_info": {
   "codemirror_mode": {
    "name": "ipython",
    "version": 3
   },
   "file_extension": ".py",
   "mimetype": "text/x-python",
   "name": "python",
   "nbconvert_exporter": "python",
   "pygments_lexer": "ipython3",
   "version": "3.9.23"
  }
 },
 "nbformat": 4,
 "nbformat_minor": 5
}
