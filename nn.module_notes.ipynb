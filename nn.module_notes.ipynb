{
 "cells": [
  {
   "cell_type": "markdown",
   "id": "f4995edd",
   "metadata": {},
   "source": [
    "### 神经网络的搭建——神经网络的基本骨架"
   ]
  },
  {
   "cell_type": "code",
   "execution_count": null,
   "id": "35340638",
   "metadata": {},
   "outputs": [],
   "source": [
    "import torch.nn as nn\n",
    "import torch.nn.functional as F\n",
    "\n",
    "#nn.Module 是 PyTorch 中所有神经网络模块的基类，继承它可以让我们使用 PyTorch 的自动求导和优化功能\n",
    "class Model(nn.Module):\n",
    "    def __init__(self) -> None:\n",
    "        super().__init__()\n",
    "        self.conv1 = nn.Conv2d(1, 20, 5)\n",
    "        # 定义两个卷积层，输入通道数为1，输出通道数为20，卷积核大小为5\n",
    "        # 第一个卷积层将输入的单通道图像转换为20个特征图\n",
    "        # 第二个卷积层将20个特征图再次转换为20个特征图\n",
    "        # 这里的卷积核大小为5，表示每个卷积核的大小为5x5\n",
    "        # 这两个卷积层的作用是提取图像的特征\n",
    "        self.conv2 = nn.Conv2d(20, 20, 5)\n",
    "        #定义第二个卷积层，输入 20 个特征图，输出 20 个特征图，卷积核大小为 5x5。\n",
    "    # 在构造函数中定义了两个卷积层，分别是 conv1 和 conv2\n",
    "\n",
    "    \n",
    "    def forward(self, x):#x经过一次卷积，再经过一次非线性，再经过一次卷积，再经过一次非线性，最后得到输出\n",
    "        x = F.relu(self.conv1(x))\n",
    "        return F.relu(self.conv2(x))"
   ]
  },
  {
   "cell_type": "markdown",
   "id": "71f2fd32",
   "metadata": {},
   "source": [
    "x = F.relu(self.conv1(x))：先通过第一个卷积层 conv1 对输入 x 进行卷积运算，然后应用 ReLU 激活函数（非线性转换）。ReLU 可以帮助网络捕捉非线性特征，增加模型表达能力。\n",
    "return F.relu(self.conv2(x))：将经过第一个卷积和 ReLU 激活后的 x 传入第二个卷积层 conv2，再进行卷积操作，并通过 ReLU 激活函数返回最终的输出。"
   ]
  },
  {
   "cell_type": "code",
   "execution_count": 5,
   "id": "367f5c35",
   "metadata": {},
   "outputs": [
    {
     "name": "stdout",
     "output_type": "stream",
     "text": [
      "tensor(2.)\n"
     ]
    }
   ],
   "source": [
    "from torch import nn\n",
    "\n",
    "class Tudui(nn.Module):\n",
    "\tdef __init__(self):\n",
    "\t\tsuper().__init__()\n",
    "\n",
    "\tdef forward(self, input):\n",
    "\t\toutput = input + 1\n",
    "\t\treturn output  # 简单的加1操作，作为示例\n",
    "\n",
    "tudui = Tudui()\n",
    "import torch\n",
    "x = torch.tensor(1.0)\n",
    "output = tudui(x)\n",
    "print(output)  # 输出结果为 tensor(2.0)，表示输入加1后的结果"
   ]
  },
  {
   "cell_type": "code",
   "execution_count": 10,
   "id": "7ce31d5c",
   "metadata": {},
   "outputs": [
    {
     "name": "stdout",
     "output_type": "stream",
     "text": [
      "torch.Size([1, 1, 5, 5])\n",
      "torch.Size([1, 1, 3, 3])\n",
      "tensor([[[[10, 12, 12],\n",
      "          [18, 16, 16],\n",
      "          [13,  9,  3]]]])\n",
      "tensor([[[[ 1,  3,  4, 10,  8],\n",
      "          [ 5, 10, 12, 12,  6],\n",
      "          [ 7, 18, 16, 16,  8],\n",
      "          [11, 13,  9,  3,  4],\n",
      "          [14, 13,  9,  7,  4]]]])\n"
     ]
    }
   ],
   "source": [
    "import torch\n",
    "import torch.nn.functional as F\n",
    "input = torch.tensor([\n",
    "    [1, 2, 0, 3, 1],\n",
    "    [0, 1, 2, 3, 1],\n",
    "    [1, 2, 1, 0, 0],\n",
    "    [5, 2, 3, 1, 1],\n",
    "    [2, 1, 0, 1, 1]\n",
    "])\n",
    "kernal = torch.tensor([\n",
    "    [1, 2, 1],\n",
    "    [0, 1, 0],\n",
    "    [2, 1, 0]\n",
    "])\n",
    "\n",
    "\n",
    "input = torch.reshape(input,(1,1,5,5))\n",
    "kernal = torch.reshape(kernal,(1,1,3,3))\n",
    "\n",
    "print(input.shape) \n",
    "print(kernal.shape)\n",
    "\n",
    "output2 = F.conv2d(input, kernal, stride=1)\n",
    "print(output2)  \n",
    "output3 = F.conv2d(input, kernal, stride=1,padding= 1)\n",
    "print(output3)# 使用卷积操作，padding=1表示在输入的边缘添加一圈0"
   ]
  }
 ],
 "metadata": {
  "kernelspec": {
   "display_name": "pytorch",
   "language": "python",
   "name": "python3"
  },
  "language_info": {
   "codemirror_mode": {
    "name": "ipython",
    "version": 3
   },
   "file_extension": ".py",
   "mimetype": "text/x-python",
   "name": "python",
   "nbconvert_exporter": "python",
   "pygments_lexer": "ipython3",
   "version": "3.9.23"
  }
 },
 "nbformat": 4,
 "nbformat_minor": 5
}
