{
 "cells": [
  {
   "cell_type": "code",
   "execution_count": null,
   "id": "ef93b948",
   "metadata": {},
   "outputs": [],
   "source": [
    "import torchvision.models\n",
    "import torch\n",
    "import torch.nn as nn\n",
    "from model_save import *\n",
    "#相当于将model_save.py中涉及到的所有模型都导入了此文件"
   ]
  },
  {
   "cell_type": "code",
   "execution_count": null,
   "id": "5f84da85",
   "metadata": {},
   "outputs": [
    {
     "name": "stdout",
     "output_type": "stream",
     "text": [
      "Tudui(\n",
      "  (conv1): Conv2d(3, 64, kernel_size=(3, 3), stride=(1, 1))\n",
      ")\n"
     ]
    }
   ],
   "source": [
    "class Tudui(nn.Module):\n",
    "    def __init__(self):\n",
    "        super(Tudui, self).__init__()\n",
    "        self.conv1 = nn.Conv2d(3, 64, kernel_size=3)\n",
    "\n",
    "    def forward(self, x):\n",
    "        x = self.conv1(x)\n",
    "        return x\n",
    "#以上和from model_save import *，2个代码只需要1个\n",
    "    \n",
    "model = torch.load(\"tudui_method1.pth\", weights_only=False)\n",
    "print(model)"
   ]
  }
 ],
 "metadata": {
  "kernelspec": {
   "display_name": "pytorch",
   "language": "python",
   "name": "python3"
  },
  "language_info": {
   "codemirror_mode": {
    "name": "ipython",
    "version": 3
   },
   "file_extension": ".py",
   "mimetype": "text/x-python",
   "name": "python",
   "nbconvert_exporter": "python",
   "pygments_lexer": "ipython3",
   "version": "3.9.23"
  }
 },
 "nbformat": 4,
 "nbformat_minor": 5
}
