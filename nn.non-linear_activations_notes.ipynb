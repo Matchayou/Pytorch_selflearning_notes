{
 "cells": [
  {
   "cell_type": "code",
   "execution_count": 11,
   "id": "89fd376d",
   "metadata": {},
   "outputs": [],
   "source": [
    "import torch\n",
    "from torch import nn\n",
    "from torch.nn import ReLU\n",
    "import torchvision\n",
    "from torch.utils.data import DataLoader\n",
    "from torch.utils.tensorboard import SummaryWriter\n",
    "from torch.nn import Sigmoid\n",
    "from torchvision import transforms\n",
    "\n",
    "\n",
    "input = torch.tensor([[1,-0.5],\n",
    "                     [-1, 3],])\n",
    "\n"
   ]
  },
  {
   "cell_type": "code",
   "execution_count": 8,
   "id": "72ee2d37",
   "metadata": {},
   "outputs": [
    {
     "name": "stdout",
     "output_type": "stream",
     "text": [
      "tensor([[0.7311, 0.3775],\n",
      "        [0.2689, 0.9526]])\n"
     ]
    }
   ],
   "source": [
    "class Tudui(nn.Module):\n",
    "    def __init__(self):\n",
    "        super(Tudui, self).__init__()\n",
    "        self.relu1 = ReLU()\n",
    "        self.sigmoid1 = Sigmoid()\n",
    "\n",
    "    def forward(self, input):\n",
    "        output = self.sigmoid1(input)\n",
    "        return output\n",
    "    \n",
    "tudui = Tudui()\n",
    "output = tudui(input)\n",
    "print(output)  # Output after applying ReLU activation"
   ]
  },
  {
   "cell_type": "code",
   "execution_count": 12,
   "id": "2ddcfdd0",
   "metadata": {},
   "outputs": [],
   "source": [
    "dataset = torchvision.datasets.CIFAR10(root='./dataset', \n",
    "                                      train=False, \n",
    "                                      download=True, \n",
    "                                      transform= torchvision.transforms.ToTensor())\n",
    "dataloader = DataLoader(dataset,batch_size=64)\n",
    "\n",
    "step = 0\n",
    "\n",
    "writer = SummaryWriter('logs_non-linear-activations')\n",
    "\n",
    "for data in dataloader:\n",
    "    imgs, targets = data\n",
    "    output = tudui(imgs)\n",
    "    writer.add_images('input', imgs, step)\n",
    "    writer.add_images('output', output, step)\n",
    "    step += 1\n",
    "writer.close()"
   ]
  }
 ],
 "metadata": {
  "kernelspec": {
   "display_name": "pytorch",
   "language": "python",
   "name": "python3"
  },
  "language_info": {
   "codemirror_mode": {
    "name": "ipython",
    "version": 3
   },
   "file_extension": ".py",
   "mimetype": "text/x-python",
   "name": "python",
   "nbconvert_exporter": "python",
   "pygments_lexer": "ipython3",
   "version": "3.9.23"
  }
 },
 "nbformat": 4,
 "nbformat_minor": 5
}
